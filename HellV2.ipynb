{
  "nbformat": 4,
  "nbformat_minor": 0,
  "metadata": {
    "colab": {
      "name": "HellV2.ipynb",
      "provenance": [],
      "collapsed_sections": [],
      "include_colab_link": true
    },
    "kernelspec": {
      "name": "python3",
      "display_name": "Python 3"
    }
  },
  "cells": [
    {
      "cell_type": "markdown",
      "metadata": {
        "id": "view-in-github",
        "colab_type": "text"
      },
      "source": [
        "<a href=\"https://colab.research.google.com/github/cattythe3rd/Aarhon/blob/master/HellV2.ipynb\" target=\"_parent\"><img src=\"https://colab.research.google.com/assets/colab-badge.svg\" alt=\"Open In Colab\"/></a>"
      ]
    },
    {
      "cell_type": "code",
      "metadata": {
        "id": "p4LIRCMPEMDk",
        "colab_type": "code",
        "outputId": "ef2570be-56fc-42a8-8038-5be54247ac25",
        "colab": {
          "base_uri": "https://localhost:8080/",
          "height": 282
        }
      },
      "source": [
        "import numpy as np\n",
        "from matplotlib import pyplot as plt\n",
        "import seaborn as sns\n",
        "\n",
        "#sns.set()\n",
        "x = np.linspace(0, 10, 1000)\n",
        "y = np.sin(x)\n",
        "plt.figure\n",
        "plt.plot(x, y, 'r+')"
      ],
      "execution_count": 0,
      "outputs": [
        {
          "output_type": "execute_result",
          "data": {
            "text/plain": [
              "[<matplotlib.lines.Line2D at 0x7f3f55bd4518>]"
            ]
          },
          "metadata": {
            "tags": []
          },
          "execution_count": 8
        },
        {
          "output_type": "display_data",
          "data": {
            "image/png": "[encoded data removed]",
            "text/plain": [
              "<Figure size 432x288 with 1 Axes>"
            ]
          },
          "metadata": {
            "tags": [],
            "needs_background": "light"
          }
        }
      ]
    },
    {
      "cell_type": "code",
      "metadata": {
        "id": "VtRVB83kEPgL",
        "colab_type": "code",
        "outputId": "e00573a7-1072-409e-ace2-abeb7b6d1766",
        "colab": {
          "base_uri": "https://localhost:8080/",
          "height": 84
        }
      },
      "source": [
        "num = int(input('Enter another number: '))\n",
        "if num > 0:\n",
        "  print(num,'is positive')\n",
        "  print(num,'squared is ', num * num)\n",
        "  print('Bye')\n",
        "elif num == 0:\n",
        "  print (num, \"null space\")\n",
        "  print (num, \"squared is \", num * num)\n",
        "  print (\"Shadow Realm\")\n",
        "\n",
        "''' this is a comment owo '''\n",
        "# this is a comment owo\n",
        "# comment this is\n",
        "''' this is a comment '''\n"
      ],
      "execution_count": 0,
      "outputs": [
        {
          "output_type": "stream",
          "text": [
            "Enter another number: 4\n",
            "4 is positive\n",
            "4 squared is  16\n",
            "Bye\n"
          ],
          "name": "stdout"
        }
      ]
    }
  ]
}