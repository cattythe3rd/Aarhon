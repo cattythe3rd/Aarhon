{
  "nbformat": 4,
  "nbformat_minor": 0,
  "metadata": {
    "colab": {
      "name": "beginnerspython3practice.ipynb",
      "provenance": [],
      "collapsed_sections": [],
      "authorship_tag": "ABX9TyP5cpmeyirxCNwAZVVftAwJ",
      "include_colab_link": true
    },
    "kernelspec": {
      "name": "python3",
      "display_name": "Python 3"
    }
  },
  "cells": [
    {
      "cell_type": "markdown",
      "metadata": {
        "id": "view-in-github",
        "colab_type": "text"
      },
      "source": [
        "<a href=\"https://colab.research.google.com/github/cattythe3rd/Aarhon/blob/master/beginnerspython3practice.ipynb\" target=\"_parent\"><img src=\"https://colab.research.google.com/assets/colab-badge.svg\" alt=\"Open In Colab\"/></a>"
      ]
    },
    {
      "cell_type": "code",
      "metadata": {
        "id": "fMeOp3quwxz8",
        "colab_type": "code",
        "outputId": "48a4237f-1f49-4994-d4f8-f4d27cb13145",
        "colab": {
          "base_uri": "https://localhost:8080/",
          "height": 67
        }
      },
      "source": [
        "# chapter 3\n",
        "\n",
        "print('Hello World')\n",
        "print(5 * 4)\n",
        "name = 'Adeela'\n",
        "print(name)"
      ],
      "execution_count": 25,
      "outputs": [
        {
          "output_type": "stream",
          "text": [
            "Hello World\n",
            "20\n",
            "Adeela\n"
          ],
          "name": "stdout"
        }
      ]
    },
    {
      "cell_type": "code",
      "metadata": {
        "id": "ai-QjajTw-A_",
        "colab_type": "code",
        "outputId": "6cc41514-72fa-45f0-a1b7-d4ab77e16005",
        "colab": {
          "base_uri": "https://localhost:8080/",
          "height": 67
        }
      },
      "source": [
        "print (\"Hello, world\")\n",
        "user_name = input (\"Enter your name: \")\n",
        "print (\"Hello \", user_name)"
      ],
      "execution_count": 0,
      "outputs": [
        {
          "output_type": "stream",
          "text": [
            "Hello, world\n",
            "Enter your name: Adeela\n",
            "Hello  Adeela\n"
          ],
          "name": "stdout"
        }
      ]
    },
    {
      "cell_type": "code",
      "metadata": {
        "id": "OeGq1bX16-r2",
        "colab_type": "code",
        "outputId": "0919c459-c0e3-4194-c68f-791e05aafc3a",
        "colab": {
          "base_uri": "https://localhost:8080/",
          "height": 50
        }
      },
      "source": [
        "user_name = input (\"Enter your name: \")\n",
        "print (\"Hello\", user_name)\n"
      ],
      "execution_count": 0,
      "outputs": [
        {
          "output_type": "stream",
          "text": [
            "Enter your name: Adeela\n",
            "Hello Adeela\n"
          ],
          "name": "stdout"
        }
      ]
    },
    {
      "cell_type": "code",
      "metadata": {
        "id": "XF2s-9ky8Vak",
        "colab_type": "code",
        "outputId": "467faa6c-31b3-4011-c861-e6281b8f9bfb",
        "colab": {
          "base_uri": "https://localhost:8080/",
          "height": 101
        }
      },
      "source": [
        "print (\"Hello, world\" )\n",
        "name = input( \"Enter your name: \" )\n",
        "print (\"Hello\", name)\n",
        "name = input (\"What is the name of your best friend: \")\n",
        "print (\"Hello Best friend\", name)\n"
      ],
      "execution_count": 0,
      "outputs": [
        {
          "output_type": "stream",
          "text": [
            "Hello, world\n",
            "Enter your name: Adeela\n",
            "Hello Adeela\n",
            "What is the name of your best friend: Megan\n",
            "Hello Best friend Megan\n"
          ],
          "name": "stdout"
        }
      ]
    },
    {
      "cell_type": "code",
      "metadata": {
        "id": "dGBJo72K81TD",
        "colab_type": "code",
        "outputId": "6a679ef8-a2c9-4e0d-8d8e-92cb6d597c2b",
        "colab": {
          "base_uri": "https://localhost:8080/",
          "height": 67
        }
      },
      "source": [
        "my_variable = \"Adeela\"\n",
        "print (my_variable)\n",
        "my_variable = 42\n",
        "print (my_variable)\n",
        "my_variable = True\n",
        "print (my_variable)"
      ],
      "execution_count": 0,
      "outputs": [
        {
          "output_type": "stream",
          "text": [
            "Adeela\n",
            "42\n",
            "True\n"
          ],
          "name": "stdout"
        }
      ]
    },
    {
      "cell_type": "code",
      "metadata": {
        "id": "oMvmdK1X9jMB",
        "colab_type": "code",
        "colab": {}
      },
      "source": [
        "# > naming conventions\n",
        "# *Python itself does not always comply with these conventions*\n",
        "# all lowercase\n",
        "# i and j are using in looping constructs\n",
        "# more descriptive than single cells like \"a\" or \"b\"\n",
        "# separate_with_underscore"
      ],
      "execution_count": 0,
      "outputs": []
    },
    {
      "cell_type": "code",
      "metadata": {
        "id": "xiBO-au1_Rcn",
        "colab_type": "code",
        "outputId": "271d4f98-d741-40c6-9f0b-2b80903b181b",
        "colab": {
          "base_uri": "https://localhost:8080/",
          "height": 50
        }
      },
      "source": [
        "user_name = input (\"Enter your name: \")\n",
        "my_variable = \"Adeela\"\n",
        "print (\"Hello\", user_name)"
      ],
      "execution_count": 0,
      "outputs": [
        {
          "output_type": "stream",
          "text": [
            "Enter your name: Adeela\n",
            "Hello Adeela\n"
          ],
          "name": "stdout"
        }
      ]
    },
    {
      "cell_type": "code",
      "metadata": {
        "id": "_dCo1SYTCH3d",
        "colab_type": "code",
        "outputId": "db2be9c6-e190-4373-b43a-5c3250d7bda0",
        "colab": {
          "base_uri": "https://localhost:8080/",
          "height": 542
        }
      },
      "source": [
        "#\n",
        "city = input (\"Enter city name: \")\n",
        "birth_year = (\"Enter birth year: \")\n",
        "birth_date = (\"Enter birth date: \")\n",
        "number_of_people_in_city = (birth_year * birth_date) * (e^birth_date)\n",
        "year = input (\"Enter current year: \")\n",
        "\n",
        "print(\"The total population for\",\n",
        "city,\n",
        "'was',\n",
        "number_of_people_in_city,\n",
        "\"in\",\n",
        "year)\n",
        "#"
      ],
      "execution_count": 0,
      "outputs": [
        {
          "output_type": "error",
          "ename": "KeyboardInterrupt",
          "evalue": "ignored",
          "traceback": [
            "\u001b[0;31m---------------------------------------------------------------------------\u001b[0m",
            "\u001b[0;31mKeyboardInterrupt\u001b[0m                         Traceback (most recent call last)",
            "\u001b[0;32m/usr/local/lib/python3.6/dist-packages/ipykernel/kernelbase.py\u001b[0m in \u001b[0;36m_input_request\u001b[0;34m(self, prompt, ident, parent, password)\u001b[0m\n\u001b[1;32m    728\u001b[0m             \u001b[0;32mtry\u001b[0m\u001b[0;34m:\u001b[0m\u001b[0;34m\u001b[0m\u001b[0;34m\u001b[0m\u001b[0m\n\u001b[0;32m--> 729\u001b[0;31m                 \u001b[0mident\u001b[0m\u001b[0;34m,\u001b[0m \u001b[0mreply\u001b[0m \u001b[0;34m=\u001b[0m \u001b[0mself\u001b[0m\u001b[0;34m.\u001b[0m\u001b[0msession\u001b[0m\u001b[0;34m.\u001b[0m\u001b[0mrecv\u001b[0m\u001b[0;34m(\u001b[0m\u001b[0mself\u001b[0m\u001b[0;34m.\u001b[0m\u001b[0mstdin_socket\u001b[0m\u001b[0;34m,\u001b[0m \u001b[0;36m0\u001b[0m\u001b[0;34m)\u001b[0m\u001b[0;34m\u001b[0m\u001b[0;34m\u001b[0m\u001b[0m\n\u001b[0m\u001b[1;32m    730\u001b[0m             \u001b[0;32mexcept\u001b[0m \u001b[0mException\u001b[0m\u001b[0;34m:\u001b[0m\u001b[0;34m\u001b[0m\u001b[0;34m\u001b[0m\u001b[0m\n",
            "\u001b[0;32m/usr/local/lib/python3.6/dist-packages/jupyter_client/session.py\u001b[0m in \u001b[0;36mrecv\u001b[0;34m(self, socket, mode, content, copy)\u001b[0m\n\u001b[1;32m    802\u001b[0m         \u001b[0;32mtry\u001b[0m\u001b[0;34m:\u001b[0m\u001b[0;34m\u001b[0m\u001b[0;34m\u001b[0m\u001b[0m\n\u001b[0;32m--> 803\u001b[0;31m             \u001b[0mmsg_list\u001b[0m \u001b[0;34m=\u001b[0m \u001b[0msocket\u001b[0m\u001b[0;34m.\u001b[0m\u001b[0mrecv_multipart\u001b[0m\u001b[0;34m(\u001b[0m\u001b[0mmode\u001b[0m\u001b[0;34m,\u001b[0m \u001b[0mcopy\u001b[0m\u001b[0;34m=\u001b[0m\u001b[0mcopy\u001b[0m\u001b[0;34m)\u001b[0m\u001b[0;34m\u001b[0m\u001b[0;34m\u001b[0m\u001b[0m\n\u001b[0m\u001b[1;32m    804\u001b[0m         \u001b[0;32mexcept\u001b[0m \u001b[0mzmq\u001b[0m\u001b[0;34m.\u001b[0m\u001b[0mZMQError\u001b[0m \u001b[0;32mas\u001b[0m \u001b[0me\u001b[0m\u001b[0;34m:\u001b[0m\u001b[0;34m\u001b[0m\u001b[0;34m\u001b[0m\u001b[0m\n",
            "\u001b[0;32m/usr/local/lib/python3.6/dist-packages/zmq/sugar/socket.py\u001b[0m in \u001b[0;36mrecv_multipart\u001b[0;34m(self, flags, copy, track)\u001b[0m\n\u001b[1;32m    474\u001b[0m         \"\"\"\n\u001b[0;32m--> 475\u001b[0;31m         \u001b[0mparts\u001b[0m \u001b[0;34m=\u001b[0m \u001b[0;34m[\u001b[0m\u001b[0mself\u001b[0m\u001b[0;34m.\u001b[0m\u001b[0mrecv\u001b[0m\u001b[0;34m(\u001b[0m\u001b[0mflags\u001b[0m\u001b[0;34m,\u001b[0m \u001b[0mcopy\u001b[0m\u001b[0;34m=\u001b[0m\u001b[0mcopy\u001b[0m\u001b[0;34m,\u001b[0m \u001b[0mtrack\u001b[0m\u001b[0;34m=\u001b[0m\u001b[0mtrack\u001b[0m\u001b[0;34m)\u001b[0m\u001b[0;34m]\u001b[0m\u001b[0;34m\u001b[0m\u001b[0;34m\u001b[0m\u001b[0m\n\u001b[0m\u001b[1;32m    476\u001b[0m         \u001b[0;31m# have first part already, only loop while more to receive\u001b[0m\u001b[0;34m\u001b[0m\u001b[0;34m\u001b[0m\u001b[0;34m\u001b[0m\u001b[0m\n",
            "\u001b[0;32mzmq/backend/cython/socket.pyx\u001b[0m in \u001b[0;36mzmq.backend.cython.socket.Socket.recv\u001b[0;34m()\u001b[0m\n",
            "\u001b[0;32mzmq/backend/cython/socket.pyx\u001b[0m in \u001b[0;36mzmq.backend.cython.socket.Socket.recv\u001b[0;34m()\u001b[0m\n",
            "\u001b[0;32mzmq/backend/cython/socket.pyx\u001b[0m in \u001b[0;36mzmq.backend.cython.socket._recv_copy\u001b[0;34m()\u001b[0m\n",
            "\u001b[0;32m/usr/local/lib/python3.6/dist-packages/zmq/backend/cython/checkrc.pxd\u001b[0m in \u001b[0;36mzmq.backend.cython.checkrc._check_rc\u001b[0;34m()\u001b[0m\n",
            "\u001b[0;31mKeyboardInterrupt\u001b[0m: ",
            "\nDuring handling of the above exception, another exception occurred:\n",
            "\u001b[0;31mKeyboardInterrupt\u001b[0m                         Traceback (most recent call last)",
            "\u001b[0;32m<ipython-input-15-7b68e481b87f>\u001b[0m in \u001b[0;36m<module>\u001b[0;34m()\u001b[0m\n\u001b[0;32m----> 1\u001b[0;31m \u001b[0mcity\u001b[0m \u001b[0;34m=\u001b[0m \u001b[0minput\u001b[0m \u001b[0;34m(\u001b[0m\u001b[0;34m\"Enter city name: \"\u001b[0m\u001b[0;34m)\u001b[0m\u001b[0;34m\u001b[0m\u001b[0;34m\u001b[0m\u001b[0m\n\u001b[0m\u001b[1;32m      2\u001b[0m \u001b[0mbirth_year\u001b[0m \u001b[0;34m=\u001b[0m \u001b[0;34m(\u001b[0m\u001b[0;34m\"Enter birth year: \"\u001b[0m\u001b[0;34m)\u001b[0m\u001b[0;34m\u001b[0m\u001b[0;34m\u001b[0m\u001b[0m\n\u001b[1;32m      3\u001b[0m \u001b[0mbirth_date\u001b[0m \u001b[0;34m=\u001b[0m \u001b[0;34m(\u001b[0m\u001b[0;34m\"Enter birth date: \"\u001b[0m\u001b[0;34m)\u001b[0m\u001b[0;34m\u001b[0m\u001b[0;34m\u001b[0m\u001b[0m\n\u001b[1;32m      4\u001b[0m \u001b[0mnumber_of_people_in_city\u001b[0m \u001b[0;34m=\u001b[0m \u001b[0;34m(\u001b[0m\u001b[0mbirth_year\u001b[0m \u001b[0;34m*\u001b[0m \u001b[0mbirth_date\u001b[0m\u001b[0;34m)\u001b[0m \u001b[0;34m*\u001b[0m \u001b[0;34m(\u001b[0m\u001b[0me\u001b[0m\u001b[0;34m^\u001b[0m\u001b[0mbirth_date\u001b[0m\u001b[0;34m)\u001b[0m\u001b[0;34m\u001b[0m\u001b[0;34m\u001b[0m\u001b[0m\n\u001b[1;32m      5\u001b[0m \u001b[0myear\u001b[0m \u001b[0;34m=\u001b[0m \u001b[0minput\u001b[0m \u001b[0;34m(\u001b[0m\u001b[0;34m\"Enter current year: \"\u001b[0m\u001b[0;34m)\u001b[0m\u001b[0;34m\u001b[0m\u001b[0;34m\u001b[0m\u001b[0m\n",
            "\u001b[0;32m/usr/local/lib/python3.6/dist-packages/ipykernel/kernelbase.py\u001b[0m in \u001b[0;36mraw_input\u001b[0;34m(self, prompt)\u001b[0m\n\u001b[1;32m    702\u001b[0m             \u001b[0mself\u001b[0m\u001b[0;34m.\u001b[0m\u001b[0m_parent_ident\u001b[0m\u001b[0;34m,\u001b[0m\u001b[0;34m\u001b[0m\u001b[0;34m\u001b[0m\u001b[0m\n\u001b[1;32m    703\u001b[0m             \u001b[0mself\u001b[0m\u001b[0;34m.\u001b[0m\u001b[0m_parent_header\u001b[0m\u001b[0;34m,\u001b[0m\u001b[0;34m\u001b[0m\u001b[0;34m\u001b[0m\u001b[0m\n\u001b[0;32m--> 704\u001b[0;31m             \u001b[0mpassword\u001b[0m\u001b[0;34m=\u001b[0m\u001b[0;32mFalse\u001b[0m\u001b[0;34m,\u001b[0m\u001b[0;34m\u001b[0m\u001b[0;34m\u001b[0m\u001b[0m\n\u001b[0m\u001b[1;32m    705\u001b[0m         )\n\u001b[1;32m    706\u001b[0m \u001b[0;34m\u001b[0m\u001b[0m\n",
            "\u001b[0;32m/usr/local/lib/python3.6/dist-packages/ipykernel/kernelbase.py\u001b[0m in \u001b[0;36m_input_request\u001b[0;34m(self, prompt, ident, parent, password)\u001b[0m\n\u001b[1;32m    732\u001b[0m             \u001b[0;32mexcept\u001b[0m \u001b[0mKeyboardInterrupt\u001b[0m\u001b[0;34m:\u001b[0m\u001b[0;34m\u001b[0m\u001b[0;34m\u001b[0m\u001b[0m\n\u001b[1;32m    733\u001b[0m                 \u001b[0;31m# re-raise KeyboardInterrupt, to truncate traceback\u001b[0m\u001b[0;34m\u001b[0m\u001b[0;34m\u001b[0m\u001b[0;34m\u001b[0m\u001b[0m\n\u001b[0;32m--> 734\u001b[0;31m                 \u001b[0;32mraise\u001b[0m \u001b[0mKeyboardInterrupt\u001b[0m\u001b[0;34m\u001b[0m\u001b[0;34m\u001b[0m\u001b[0m\n\u001b[0m\u001b[1;32m    735\u001b[0m             \u001b[0;32melse\u001b[0m\u001b[0;34m:\u001b[0m\u001b[0;34m\u001b[0m\u001b[0;34m\u001b[0m\u001b[0m\n\u001b[1;32m    736\u001b[0m                 \u001b[0;32mbreak\u001b[0m\u001b[0;34m\u001b[0m\u001b[0;34m\u001b[0m\u001b[0m\n",
            "\u001b[0;31mKeyboardInterrupt\u001b[0m: "
          ]
        }
      ]
    },
    {
      "cell_type": "code",
      "metadata": {
        "id": "pUePf46hCRqx",
        "colab_type": "code",
        "outputId": "b44470bf-8ed8-47f2-9484-103c20864dc7",
        "colab": {
          "base_uri": "https://localhost:8080/",
          "height": 118
        }
      },
      "source": [
        "# This is a comment\n",
        "name = input('Enter your name: ')\n",
        "# This is another comment\n",
        "print(name) # this is a comment to the end of the line\n",
        "\n",
        "print('Hello My Python World')\n",
        "name = input('Please provide your name: ')\n",
        "print('Hello ', name)\n",
        "print(42 - 6)"
      ],
      "execution_count": 0,
      "outputs": [
        {
          "output_type": "stream",
          "text": [
            "Enter your name: Adeela\n",
            "Adeela\n",
            "Hello My Python World\n",
            "Please provide your name: Adeela\n",
            "Hello  Adeela\n",
            "36\n"
          ],
          "name": "stdout"
        }
      ]
    },
    {
      "cell_type": "code",
      "metadata": {
        "id": "A8Fm8eUeIJ4L",
        "colab_type": "code",
        "outputId": "6e5040b9-d8dc-4904-b70f-fa54b04d3d4e",
        "colab": {
          "base_uri": "https://localhost:8080/",
          "height": 235
        }
      },
      "source": [
        "# Chapter 4\n",
        "\n",
        "z = \"\"\"\n",
        "Hello\n",
        "   World\n",
        "\"\"\"\n",
        "print(z)\n",
        "\n",
        "#\n",
        "my_variable = 'Bob'\n",
        "print(type(my_variable))\n",
        "\n",
        "string_1 = 'Good'\n",
        "string_2 = \" day\"\n",
        "string_3 = string_1 + string_2\n",
        "print(string_3)\n",
        "print('Hello ' + 'World')\n",
        "\n",
        "my_string = 'Hello World'\n",
        "print(my_string[4])\n",
        "my_string = 'Hello World'\n",
        "print(my_string[8])\n",
        "\n",
        "my_string = 'Hello World'\n",
        "print(my_string[4]) # characters at position 4\n",
        "print(my_string[1:5]) # from position 1 to 5\n",
        "print(my_string[:5]) # from start to position 5\n",
        "print(my_string[2:]) # from position 2 to the end\n"
      ],
      "execution_count": 0,
      "outputs": [
        {
          "output_type": "stream",
          "text": [
            "\n",
            "Hello\n",
            "   World\n",
            "\n",
            "<class 'str'>\n",
            "Good day\n",
            "Hello World\n",
            "o\n",
            "r\n",
            "o\n",
            "ello\n",
            "Hello\n",
            "llo World\n"
          ],
          "name": "stdout"
        }
      ]
    },
    {
      "cell_type": "code",
      "metadata": {
        "id": "a6yypXeDl_Jd",
        "colab_type": "code",
        "outputId": "1b0016c8-6045-431e-fddc-acc4b89d6895",
        "colab": {
          "base_uri": "https://localhost:8080/",
          "height": 386
        }
      },
      "source": [
        "# repeating strings\n",
        "print('*' * 10)\n",
        "print('Hi' * 10)\n",
        "\n",
        "title = 'The Good, The Bad, and the Ugly'\n",
        "print('Source string:', title)\n",
        "print('Split using a space')\n",
        "print(title.split(' '))\n",
        "print('Split using a comma')\n",
        "print(title.split(','))\n",
        "\n",
        "print(\"   \")\n",
        "title = 'The Good, The Bad, and the Ugly'\n",
        "print(title.split(' '))\n",
        "print(\"   \")\n",
        "my_string = 'Count, the number      of spaces'\n",
        "print(\"my_string.count(' '):\", my_string.count(' '))\n",
        "print(\"   \")\n",
        "my_string = 'Count, the number   of spaces'\n",
        "print(\"my_string.count(' '):\", my_string.count(' '))\n",
        "print(\"   \")\n",
        "my_string = 'Count, the number of spaces'\n",
        "print(\"my_string.count(' '):\", my_string.count(' '))\n",
        "\n",
        "print(\"   \")\n",
        "\n",
        "# replacing strings\n",
        "welcome_message = 'Hello World!'\n",
        "print(welcome_message.replace(\"Hello\", \"Goodbye\"))\n",
        "\n",
        "print(\" \")\n",
        "\n",
        "# *doesn't return anything as no defined string* string.find(string_to_find)\n",
        "print('Edward Alun Rawlings'.find('Alun')) #prints numerical position of when section of string begins\n",
        "print('Edward John Rawlings'.find('Alun')) #prints -1 when no element(s) found to return\n",
        "\n",
        "print(\" \")\n",
        "\n",
        "# next 2 lines will give \"error message indicating that you can only concatenate strings with strings not integers with strings.\"\n",
        "# msg = 'Hello Lloyd you are ' + 21\n",
        "# print(msg)\n",
        "msg = 'Hello Lloyd you are ' + str(21)\n",
        "print(msg)\n",
        "\n",
        "print(\" \")\n",
        "\n",
        "print('James' == 'James') # prints True\n",
        "print('James' == 'John') # prints False\n",
        "print('James' != 'John') # prints True\n",
        "print('James' == 'james') # prints False\n",
        "\n"
      ],
      "execution_count": 0,
      "outputs": [
        {
          "output_type": "stream",
          "text": [
            "**********\n",
            "HiHiHiHiHiHiHiHiHiHi\n",
            "Source string: The Good, The Bad, and the Ugly\n",
            "Split using a space\n",
            "['The', 'Good,', 'The', 'Bad,', 'and', 'the', 'Ugly']\n",
            "Split using a comma\n",
            "['The Good', ' The Bad', ' and the Ugly']\n",
            "   \n",
            "['The', 'Good,', 'The', 'Bad,', 'and', 'the', 'Ugly']\n",
            "   \n",
            "my_string.count(' '): 9\n",
            "   \n",
            "my_string.count(' '): 6\n",
            "   \n",
            "my_string.count(' '): 4\n",
            "   \n",
            "Goodbye World!\n",
            " \n",
            "7\n",
            "-1\n",
            " \n",
            "Hello Lloyd you are 21\n"
          ],
          "name": "stdout"
        }
      ]
    },
    {
      "cell_type": "code",
      "metadata": {
        "id": "Ejy4xND4Jt09",
        "colab_type": "code",
        "colab": {}
      },
      "source": [
        "# Printing pout some strings containing quotes\n",
        "print(\"It's the day\")\n",
        "print('She said \"hello\" to everyone')\n",
        "\n",
        "# Concatenataing strings together\n",
        "string_1 = 'Good'\n",
        "string_2 = \" day\"\n",
        "string_3 = string_1 + string_2\n",
        "print(string_3)\n",
        "print(len(string_3))\n",
        "\n",
        "my_variable = 'Bob'\n",
        "print(my_variable)\n",
        "my_variable = \"Eloise\"\n",
        "print(my_variable)\n",
        "\n",
        "# A multi line string\n",
        "z = \"\"\"\n",
        "Hello\n",
        "  World\n",
        "\"\"\"\n",
        "print(z)\n",
        "\n",
        "# Printing the type of a string - its class string\n",
        "my_variable = 'Bob'\n",
        "print(type(my_variable))\n",
        "\n",
        "# Accessing parts of a string\n",
        "my_string = 'Hello World'\n",
        "print(my_string[4])\n",
        "print(my_string[1:5])\n",
        "print(my_string[:5])\n",
        "print(my_string[2:])\n",
        "\n",
        "# Converting a string to uppper case\n",
        "print(z.upper())\n",
        "\n",
        "print(type(b'abc'))\n",
        "\n",
        "# Splitting a string up\n",
        "title = 'The Good, The Bad, and the Ugly'\n",
        "print('Source string:', title)\n",
        "print('Split using a space')\n",
        "print(title.split(' '))\n",
        "print('Split using a comma')\n",
        "print(title.split(','))\n",
        "\n",
        "# Counting howmany times a substring appears in a string\n",
        "my_string = 'Count, the number     of spaces'\n",
        "print(\"my_string.count(' '):\", my_string.count(' '))\n",
        "\n",
        "# String replacement / substitution\n",
        "welcome_message = 'Hello World!'\n",
        "print(welcome_message.replace(\"Hello\", \"Goodbye\"))\n",
        "\n",
        "# Generating multiple strings\n",
        "print('*' * 10)\n",
        "print('Hi' * 10)\n",
        "\n",
        "# Testing strings containing another string\n",
        "print('Edward Alan Rawlings'.find('Alan'))\n",
        "print('Edward John Rawlings'.find('Alan'))\n",
        "\n",
        "print('James' == 'James') # prints True\n",
        "print('James' == 'John') # prints False\n",
        "print('James' != 'John') # prints True\n",
        "print('James' == 'james') # prints False\n",
        "\n",
        "# Various different string operations\n",
        "some_string = 'Hello World'\n",
        "print('Testing a String')\n",
        "print('-' * 20)\n",
        "print('some_string', some_string)\n",
        "print(\"some_string.startswith('H')\", some_string.startswith('H'))\n",
        "print(\"some_string.startswith('h')\", some_string.startswith('h'))\n",
        "print(\"some_string.endswith('d')\", some_string.endswith('d'))\n",
        "print('some_string.istitle()', some_string.istitle())\n",
        "print('some_string.isupper()', some_string.isupper())\n",
        "print('some_string.islower()', some_string.islower())\n",
        "print('some_string.isalpha()', some_string.isalpha())\n",
        "\n",
        "# String conversions\n",
        "print('String conversions')\n",
        "print('-' * 20)\n",
        "print('some_string.upper()', some_string.upper())\n",
        "print('some_string.lower()', some_string.lower())\n",
        "print('some_string.title()', some_string.title())\n",
        "print('some_string.swapcase()', some_string.swapcase())\n",
        "print('String leading, trailing spaces', \"   xyz   \".strip())\n",
        "\n",
        "# Adding a number to a string - need to use the str() function\n",
        "msg = 'Hello Lloyd you are ' + str(21)\n",
        "print(msg)"
      ],
      "execution_count": 0,
      "outputs": []
    },
    {
      "cell_type": "code",
      "metadata": {
        "id": "SmhGRHDI7MEV",
        "colab_type": "code",
        "outputId": "af544eff-0391-457a-c276-7e59f7dee335",
        "colab": {
          "base_uri": "https://localhost:8080/",
          "height": 151
        }
      },
      "source": [
        "some_string = \"breading\"\n",
        "some_string.lower().startswith('h')\n",
        "print(some_string.isupper)\n",
        "print(some_string.isupper())\n",
        "format_string = 'Hello {}!'\n",
        "print(format_string.format('Phoebe'))\n",
        "# Allows multiple values to populate the string\n",
        "name = \"Adam\"\n",
        "age = 20\n",
        "print(\"{} is {} years old\".format(name, age))\n",
        "some_string = \"edumacation\"\n",
        "some_string.lower().startswith('h')\n",
        "print(some_string.isupper)\n",
        "print(some_string.isupper())\n",
        "\n",
        "print(\"\")\n",
        "\n",
        "# Can specify an index for the substitution\n",
        "format_string = \"Hello {1} {0}, you got {2}%\"\n",
        "print(format_string.format('Smith', 'Carol', 75))"
      ],
      "execution_count": 0,
      "outputs": [
        {
          "output_type": "stream",
          "text": [
            "<built-in method isupper of str object at 0x7f6414468e30>\n",
            "False\n",
            "Hello Phoebe!\n",
            "Adam is 20 years old\n",
            "<built-in method isupper of str object at 0x7f6414452cb0>\n",
            "False\n",
            "\n",
            "Hello Carol Smith, you got 75%\n"
          ],
          "name": "stdout"
        }
      ]
    },
    {
      "cell_type": "code",
      "metadata": {
        "id": "h7xDZ8TmXD3R",
        "colab_type": "code",
        "outputId": "de95cbed-0836-41eb-8171-aadcfe9cf77e",
        "colab": {
          "base_uri": "https://localhost:8080/",
          "height": 302
        }
      },
      "source": [
        "# Can use named substitutions, order is not significant\n",
        "format_string = \"{artist} sang {song} in {year}\"\n",
        "print(format_string.format(artist='Paloma Faith',\n",
        "song='Guilty', year=2017))\n",
        "print(\"\")\n",
        "print('|{:25}|'.format('25 characters width'))\n",
        "print('|{:<25}|'.format('left aligned')) # The default\n",
        "print('|{:>25}|'.format('right aligned'))\n",
        "print('|{:^25}|'.format('centered'))\n",
        "print(\"\")\n",
        "# Can format numbers with comma as thousands separator\n",
        "print('{:,}'.format(1234567890))\n",
        "print('{:,}'.format(1234567890.0))\n",
        "\n",
        "print(\"\")\n",
        "\n",
        "import string\n",
        "# Initialise the template with $variables that\n",
        "# will be substitute with actual values\n",
        "template = string.Template('$artist sang $song in $year')\n",
        "# Replace / substitute template variables with actual values\n",
        "# Can use a key = value pairs where the key is the name of\n",
        "# the template Variable and the value is the value to use\n",
        "# in the string\n",
        "print(template.substitute(artist='Freddie Mercury', song='The Great Pretender', year=1987))\n",
        "print(\"\")\n",
        "print(template.substitute(artist='Ed Sheeran', song='Galway Girl', year=2017))\n",
        "print(template.substitute(artist='Camila Cabello',song='Havana', year=2018))\n",
        "d = dict(artist = 'Billy Idol', song='Eyes Without a Face',year = 1984)\n",
        "print(template.substitute(d))\n",
        "\n",
        "print(\"\")\n",
        "# print(template.substitute(artist='David Bowie', song='Rebel Rebel'))\n",
        "# ^ this line of code would return an error \"This is because the template variable $year has not been provided with a value.\"\n",
        "print(template.safe_substitute(artist='David Bowie', song='Rebel Rebel'))"
      ],
      "execution_count": 0,
      "outputs": [
        {
          "output_type": "stream",
          "text": [
            "Paloma Faith sang Guilty in 2017\n",
            "\n",
            "|25 characters width      |\n",
            "|left aligned             |\n",
            "|            right aligned|\n",
            "|        centered         |\n",
            "\n",
            "1,234,567,890\n",
            "1,234,567,890.0\n",
            "\n",
            "Freddie Mercury sang The Great Pretender in 1987\n",
            "\n",
            "Ed Sheeran sang Galway Girl in 2017\n",
            "Camila Cabello sang Havana in 2018\n",
            "Billy Idol sang Eyes Without a Face in 1984\n",
            "\n",
            "David Bowie sang Rebel Rebel in $year\n"
          ],
          "name": "stdout"
        }
      ]
    },
    {
      "cell_type": "code",
      "metadata": {
        "id": "uehHIZo0JTQM",
        "colab_type": "code",
        "outputId": "fb270991-1cb9-4a9f-a2d7-51c7127d5bc7",
        "colab": {
          "base_uri": "https://localhost:8080/",
          "height": 101
        }
      },
      "source": [
        "import string\n",
        "\n",
        "# Initialise the template with variables that\n",
        "# will be substitute with actual values\n",
        "template = string.Template('$artist sang $song in $year')\n",
        "\n",
        "# Replace substitute variables with actual value\n",
        "# Can use a key : value pair that indicates the values to replace\n",
        "print(template.substitute(artist='Freddie Mercury', song='The Great Pretender', year=1987))\n",
        "print(template.substitute(artist='Ed Sheeran', song='Galway Girl', year=2017))\n",
        "print(template.substitute(artist='Camila Cabello', song='Havana', year=2018))\n",
        "\n",
        "# Using a dictionary to provide the value for the template variables\n",
        "d = dict(artist = 'Billy Idol', song='Eyes Without a Face', year = 1984)\n",
        "print(template.substitute(d))\n",
        "\n",
        "# Optionally providing only some of the template variable values\n",
        "# print(template.substitute(artist='David Bowie', song='Rebel Rebel'))\n",
        "print(template.safe_substitute(artist='David Bowie', song='Rebel Rebel'))"
      ],
      "execution_count": 0,
      "outputs": [
        {
          "output_type": "stream",
          "text": [
            "Freddie Mercury sang The Great Pretender in 1987\n",
            "Ed Sheeran sang Galway Girl in 2017\n",
            "Camila Cabello sang Havana in 2018\n",
            "Billy Idol sang Eyes Without a Face in 1984\n",
            "David Bowie sang Rebel Rebel in $year\n"
          ],
          "name": "stdout"
        }
      ]
    },
    {
      "cell_type": "code",
      "metadata": {
        "id": "WtO3v9qtGL8O",
        "colab_type": "code",
        "outputId": "49501ac9-e98d-4581-bd4c-62f3ded9d83a",
        "colab": {
          "base_uri": "https://localhost:8080/",
          "height": 252
        }
      },
      "source": [
        "\n",
        "#Basic string formatting example\n",
        "format_string = 'Hello {}!'\n",
        "print(format_string.format('Joe'))\n",
        "\n",
        "# Allows multiple values to populate the string\n",
        "name = \"Ahmad\"\n",
        "age = 20\n",
        "print(\"{} is {} years old\".format(name, age))\n",
        "\n",
        "# Can specify an index for the substitution\n",
        "format_string = \"Hello {1} {0}, you got {2}%\"\n",
        "print(format_string.format('Jovi', 'Bon', 75))\n",
        "\n",
        "# Can use named substitutions, order is not significant\n",
        "format_string = \"{artist} sang {song} in {year}\"\n",
        "print(format_string.format(artist='Fetty Wap', song='Trap Queen', year=2015))\n",
        "\n",
        "print('|{:25}|'.format('25 characters width'))\n",
        "\n",
        "print('|{:<25}|'.format('left aligned')) # Same as not specifying an alignment\n",
        "print('|{:>25}|'.format('right aligned'))\n",
        "print('|{:^25}|'.format('centered'))\n",
        "\n",
        "# Can format numbers with comma as thousands separator\n",
        "print('{:,}'.format(1234567890))\n",
        "print('{:,}'.format(1234567890.0))"
      ],
      "execution_count": 0,
      "outputs": [
        {
          "output_type": "stream",
          "text": [
            "\n",
            "Hello\n",
            "   World\n",
            "\n",
            "Hello Joe!\n",
            "Ahmad is 20 years old\n",
            "Hello Bon Jovi, you got 75%\n",
            "Fetty Wap sang Trap Queen in 2015\n",
            "|25 characters width      |\n",
            "|left aligned             |\n",
            "|            right aligned|\n",
            "|        centered         |\n",
            "1,234,567,890\n",
            "1,234,567,890.0\n"
          ],
          "name": "stdout"
        }
      ]
    },
    {
      "cell_type": "code",
      "metadata": {
        "id": "mLSetp10GgVx",
        "colab_type": "code",
        "outputId": "24245fd3-06d1-429d-dd07-77f088ef4c09",
        "colab": {
          "base_uri": "https://localhost:8080/",
          "height": 34
        }
      },
      "source": [
        "original_string = 'Adeela,Ahmad,Malik,22,Cambridge,UK'\n",
        "new_string = original_string.replace(',', ' ')\n",
        "print(new_string)"
      ],
      "execution_count": 0,
      "outputs": [
        {
          "output_type": "stream",
          "text": [
            "Adeela Ahmad Malik 22 Cambridge UK\n"
          ],
          "name": "stdout"
        }
      ]
    },
    {
      "cell_type": "code",
      "metadata": {
        "id": "lvgDM_WLkTfv",
        "colab_type": "code",
        "outputId": "8fdc2a7c-1999-498b-a09c-87970695ec74",
        "colab": {
          "base_uri": "https://localhost:8080/",
          "height": 185
        }
      },
      "source": [
        "# This prints out \"Hello Monkey!\"\n",
        "format_string = 'Hello {}!'\n",
        "print(format_string.format('Monkey'))\n",
        "\n",
        "# Allows multiple values to populate the string\n",
        "name = \"Raju\"\n",
        "age = 6\n",
        "print(\"{} is {} years old\".format(name, age))\n",
        "\n",
        "# Can specify an index for the substitution\n",
        "format_string = \"Hello {1} {0}, you got {2}%\"\n",
        "print(format_string.format('McFlea', 'Doggy', 53))\n",
        "\n",
        "# Can use named substitutions, order is not significant\n",
        "format_string = \"{artist} sang {song} in {year}\"\n",
        "print(format_string.format(artist='Paloma Faith', song='Guilty', year=2017))\n",
        "\n",
        "# Can align text and specify width\n",
        "print('|{:25}|'.format('25 characters width'))\n",
        "print('|{:<25}|'.format('left aligned'))  # Same as not specifying an alignment\n",
        "print('|{:>25}|'.format('right aligned'))\n",
        "print('|{:^25}|'.format('centered'))\n",
        "\n",
        "# Can format numbers with comma as thousands separator\n",
        "print('{:,}'.format(1234567890))\n",
        "print('{:,}'.format(1234567890.0))"
      ],
      "execution_count": 0,
      "outputs": [
        {
          "output_type": "stream",
          "text": [
            "Hello Monkey!\n",
            "Raju is 6 years old\n",
            "Hello Doggy McFlea, you got 53%\n",
            "Paloma Faith sang Guilty in 2017\n",
            "|25 characters width      |\n",
            "|left aligned             |\n",
            "|            right aligned|\n",
            "|        centered         |\n",
            "1,234,567,890\n",
            "1,234,567,890.0\n"
          ],
          "name": "stdout"
        }
      ]
    },
    {
      "cell_type": "code",
      "metadata": {
        "id": "sD3Dhwb2lfO_",
        "colab_type": "code",
        "outputId": "2ffac8bc-8ebc-4ab8-efa0-d7e262fd7b1e",
        "colab": {
          "base_uri": "https://localhost:8080/",
          "height": 118
        }
      },
      "source": [
        "original_string_1 = input('Please input first string ')\n",
        "original_string_2 = input('Please input the second string ')\n",
        "new_string = original_string_1 + ' ' + original_string_2\n",
        "print(new_string)\n",
        "print(len(new_string))\n",
        "upper_case_string = new_string.upper()\n",
        "print(upper_case_string)\n",
        "print(new_string.find('Albus'))"
      ],
      "execution_count": 0,
      "outputs": [
        {
          "output_type": "stream",
          "text": [
            "Please input first string doggy has no brain\n",
            "Please input the second string monkey keeps stealing degrees\n",
            "doggy has no brain monkey keeps stealing degrees\n",
            "48\n",
            "DOGGY HAS NO BRAIN MONKEY KEEPS STEALING DEGREES\n",
            "-1\n"
          ],
          "name": "stdout"
        }
      ]
    },
    {
      "cell_type": "code",
      "metadata": {
        "id": "EjNI3N9hlrID",
        "colab_type": "code",
        "outputId": "9b8c0414-02e1-41b1-f6c3-f45ffd86cdf9",
        "colab": {
          "base_uri": "https://localhost:8080/",
          "height": 336
        }
      },
      "source": [
        "# chapter 5: numbers, booleans and none\n",
        "x = 1\n",
        "print(x)\n",
        "print(type(x))\n",
        "x = 100000000000000000000000000000000000000000000000000000000001\n",
        "print(x)\n",
        "print(type(x))\n",
        "total = int('100') # just defined; not called in code here\n",
        "age = int(input('Please enter your age:'))\n",
        "print(type(age))\n",
        "print(age)\n",
        "print(\"\")\n",
        "i = int(1.0) # convert floating point to integer\n",
        "exchange_rate = 1.83\n",
        "print(exchange_rate)\n",
        "print(type(exchange_rate))\n",
        "print(\"\")\n",
        "int_value = 1\n",
        "string_value = '1.5'\n",
        "float_value = float(int_value)\n",
        "print('int value as a float:', float_value)\n",
        "print(type(float_value))\n",
        "float_value = float(string_value)\n",
        "print('string value as a float:', float_value)\n",
        "print(type(float_value))\n",
        "print(\"\")\n",
        "exchange_rate = float(input(\"Please enter the exchange rate to use: \"))\n",
        "print(exchange_rate)\n",
        "print(type(exchange_rate))"
      ],
      "execution_count": 0,
      "outputs": [
        {
          "output_type": "stream",
          "text": [
            "1\n",
            "<class 'int'>\n",
            "100000000000000000000000000000000000000000000000000000000001\n",
            "<class 'int'>\n",
            "Please enter your age:22\n",
            "<class 'int'>\n",
            "22\n",
            "\n",
            "1.83\n",
            "<class 'float'>\n",
            "\n",
            "int value as a float: 1.0\n",
            "<class 'float'>\n",
            "string value as a float: 1.5\n",
            "<class 'float'>\n",
            "\n",
            "Please enter the exchange rate to use: 5\n",
            "5.0\n",
            "<class 'float'>\n"
          ],
          "name": "stdout"
        }
      ]
    },
    {
      "cell_type": "code",
      "metadata": {
        "id": "aTstEApanhrO",
        "colab_type": "code",
        "outputId": "159fc2f3-d44e-4da8-f851-470c0be92adc",
        "colab": {
          "base_uri": "https://localhost:8080/",
          "height": 470
        }
      },
      "source": [
        "# complex numbers\n",
        "c1 = 1j\n",
        "c2 = 3 + 2j\n",
        "print('c1:', c1, ', c2:', c2)\n",
        "print(type(c1))\n",
        "print(c1.real)\n",
        "print(c1.imag)\n",
        "print(\"\")\n",
        "print(type(c2))\n",
        "print(c2.real)\n",
        "print(c2.imag)\n",
        "\n",
        "# boolean values\n",
        "# Boolean type is actually a sub type of integer\n",
        "print(\"\")\n",
        "all_ok = True\n",
        "print(all_ok)\n",
        "all_ok = False\n",
        "print(all_ok)\n",
        "print(type(all_ok))\n",
        "print(\"\")\n",
        "print(int(True))\n",
        "print(int(False))\n",
        "print(bool(1))\n",
        "print(bool(0))\n",
        "# convert strings into Booleans as long as the strings contain either True or False (and nothing else)\n",
        "print(\"\")\n",
        "status = bool(input('OK to proceed: '))\n",
        "print(status)\n",
        "print(type(status))\n"
      ],
      "execution_count": 0,
      "outputs": [
        {
          "output_type": "stream",
          "text": [
            "c1: 1j , c2: (3+2j)\n",
            "<class 'complex'>\n",
            "0.0\n",
            "1.0\n",
            "\n",
            "<class 'complex'>\n",
            "3.0\n",
            "2.0\n",
            "\n",
            "True\n",
            "False\n",
            "<class 'bool'>\n",
            "\n",
            "1\n",
            "0\n",
            "True\n",
            "False\n",
            "\n",
            "OK to proceed: your cake\n",
            "True\n",
            "<class 'bool'>\n",
            "25\n",
            "<class 'int'>\n",
            "40\n",
            "<class 'int'>\n",
            "3\n",
            "<class 'int'>\n"
          ],
          "name": "stdout"
        }
      ]
    },
    {
      "cell_type": "code",
      "metadata": {
        "id": "wo-CdZ6ewcPD",
        "colab_type": "code",
        "outputId": "d92e71cd-4533-47fc-a7a2-1933ef08672a",
        "colab": {
          "base_uri": "https://localhost:8080/",
          "height": 622
        }
      },
      "source": [
        "# arithmetic operations\n",
        "home = 10\n",
        "away = 15\n",
        "print(home + away)\n",
        "print(type(home + away))\n",
        "print(10 * 4)\n",
        "print(type(10*4))\n",
        "goals_for = 10\n",
        "goals_against = 7\n",
        "print(goals_for - goals_against)\n",
        "print(type(goals_for - goals_against))\n",
        "print(\"\")\n",
        "print(100 / 20)\n",
        "print(type(100 / 20))\n",
        "res1 = 3/2\n",
        "print(res1)\n",
        "print(type(res1))\n",
        "res1 = 3//2 #to only return integer part\n",
        "print(res1)\n",
        "print(type(res1))\n",
        "print(\"\")\n",
        "print('Modulus division 4 % 2:', 4 % 2)\n",
        "print('Modulus division 3 % 2:', 3 % 2)\n",
        "print(\"\")\n",
        "a = 5\n",
        "b = 3\n",
        "print(a ** b)\n",
        "\n",
        "print(\"\")\n",
        "\n",
        "print('True division 3/2:', 3 / 2)\n",
        "print('True division 3//2:', -3 / 2)\n",
        "print('Integer division 3//2:', 3 // 2)\n",
        "print('Integer division 3//2:', -3 // 2)\n",
        "print(\"\")\n",
        "print(2.3 + 1.5)\n",
        "print(1.5 / 2.3)\n",
        "print(1.5 * 2.3)\n",
        "print(2.3 - 1.5)\n",
        "print(1.5 - 2.3)\n",
        "i = 3 * 0.1\n",
        "print(i) # will return unexpected value, to be remedied further in chapter\n",
        "print(\"\")\n",
        "c1 = 1j\n",
        "c2 = 2j\n",
        "c3 = c1 * c2\n",
        "print(c3)\n",
        "print(\"\")\n",
        "x = 0\n",
        "print(x)\n",
        "x += 1 # has the same behaviour as x = x + 1\n",
        "print(x)\n",
        "complex(1) # generates and prints (1+0j)"
      ],
      "execution_count": 0,
      "outputs": [
        {
          "output_type": "stream",
          "text": [
            "25\n",
            "<class 'int'>\n",
            "40\n",
            "<class 'int'>\n",
            "3\n",
            "<class 'int'>\n",
            "\n",
            "5.0\n",
            "<class 'float'>\n",
            "1.5\n",
            "<class 'float'>\n",
            "1\n",
            "<class 'int'>\n",
            "\n",
            "Modulus division 4 % 2: 0\n",
            "Modulus division 3 % 2: 1\n",
            "\n",
            "125\n",
            "\n",
            "True division 3/2: 1.5\n",
            "True division 3//2: -1.5\n",
            "Integer division 3//2: 1\n",
            "Integer division 3//2: -2\n",
            "\n",
            "3.8\n",
            "0.6521739130434783\n",
            "3.4499999999999997\n",
            "0.7999999999999998\n",
            "-0.7999999999999998\n",
            "0.30000000000000004\n",
            "\n",
            "(-2+0j)\n",
            "\n",
            "0\n",
            "1\n"
          ],
          "name": "stdout"
        },
        {
          "output_type": "execute_result",
          "data": {
            "text/plain": [
              "(1+0j)"
            ]
          },
          "metadata": {
            "tags": []
          },
          "execution_count": 14
        }
      ]
    },
    {
      "cell_type": "code",
      "metadata": {
        "id": "1DSUN9fQtAuQ",
        "colab_type": "code",
        "outputId": "4f448db3-f2cb-4e1f-e71c-fb9e93417008",
        "colab": {
          "base_uri": "https://localhost:8080/",
          "height": 202
        }
      },
      "source": [
        "# None value - null values; nothingness\n",
        "winner = None\n",
        "print(winner is None)\n",
        "print(winner is not None)\n",
        "\n",
        "winner = None\n",
        "print('winner:', winner)\n",
        "print('winner is None:', winner is None)\n",
        "print('winner is not None:', winner is not None)\n",
        "print(type(winner))\n",
        "print('Set winner to True')\n",
        "winner = True\n",
        "print('winner:', winner)\n",
        "print('winner is None:', winner is None)\n",
        "print('winner is not None:', winner is not None)\n",
        "print(type(winner))"
      ],
      "execution_count": 0,
      "outputs": [
        {
          "output_type": "stream",
          "text": [
            "True\n",
            "False\n",
            "winner: None\n",
            "winner is None: True\n",
            "winner is not None: False\n",
            "<class 'NoneType'>\n",
            "Set winner to True\n",
            "winner: True\n",
            "winner is None: False\n",
            "winner is not None: True\n",
            "<class 'bool'>\n"
          ],
          "name": "stdout"
        }
      ]
    },
    {
      "cell_type": "code",
      "metadata": {
        "id": "Q79EfRcM1Rm9",
        "colab_type": "code",
        "outputId": "dbb16fe7-0237-4f0d-a278-1086f49762d9",
        "colab": {
          "base_uri": "https://localhost:8080/",
          "height": 134
        }
      },
      "source": [
        "var = 100\n",
        "print(type(var))\n",
        "\n",
        "# Obtaining the type of None\n",
        "winner = None\n",
        "print(type(winner))\n",
        "\n",
        "# Testing a variable to see if it contains None\n",
        "print(winner is None)\n",
        "print(winner is not None)\n",
        "\n",
        "print(\"\")\n",
        "\n",
        "distance_in_km = int(input('Please input the distance in kilometers:'))\n",
        "distance_in_miles = distance_in_km / 0.6214\n",
        "print('The distance in miles is', distance_in_miles)"
      ],
      "execution_count": 0,
      "outputs": [
        {
          "output_type": "stream",
          "text": [
            "<class 'int'>\n",
            "<class 'NoneType'>\n",
            "True\n",
            "False\n",
            "\n",
            "Please input the distance in kilometers:33\n",
            "The distance in miles is 53.105889925973614\n"
          ],
          "name": "stdout"
        }
      ]
    },
    {
      "cell_type": "code",
      "metadata": {
        "id": "DMNBayjb5yv9",
        "colab_type": "code",
        "outputId": "030790ef-6bb1-4ce4-ab19-8469fe9f5fc1",
        "colab": {
          "base_uri": "https://localhost:8080/",
          "height": 386
        }
      },
      "source": [
        "# chapter 6 - flow of control using If statements\n",
        "\n",
        "# Obtain a number from the user\n",
        "# and check to see if it is non-negative\n",
        "num = int(input('Enter a number: '))\n",
        "if num < 0:\n",
        "    print(num, 'is negative')\n",
        "\n",
        "print('-' * 25)\n",
        "\n",
        "# Now check to see if it is positive\n",
        "num = int(input('Enter another number: '))\n",
        "if num > 0:\n",
        "    print(num, 'is positive')\n",
        "    print(num, 'squared is ', num * num)\n",
        "\n",
        "print('Bye')\n",
        "\n",
        "print('-' * 25)\n",
        "\n",
        "# Now check to see if the number is negative or zero /positive\n",
        "num = int(input('Enter yet another number: '))\n",
        "if num < 0:\n",
        "    print('Its negative')\n",
        "else:\n",
        "    print('Its not negative')\n",
        "\n",
        "print('-' * 25)\n",
        "\n",
        "# Illustrate multiple elif example with an else\n",
        "savings = float(input(\"Enter how much you have in savings: \"))\n",
        "if savings == 0:\n",
        "    print(\"Sorry no savings\")\n",
        "elif savings < 500:\n",
        "    print('Well done')\n",
        "elif savings < 1000:\n",
        "    print('Thats a tidy sum')\n",
        "elif savings < 10000:\n",
        "    print('Welcome Sir!')\n",
        "else:\n",
        "    print('Thank you')\n",
        "\n",
        "print('-' * 25)\n",
        "\n",
        "# Nested if statement example\n",
        "snowing = True\n",
        "temp = -1\n",
        "if temp < 0:\n",
        "    print('It is freezing')\n",
        "    if snowing:\n",
        "        print('Put on boots')\n",
        "    print('Time for Hot Chocolate')\n",
        "print('Bye')\n",
        "\n",
        "# Using an and in the condition\n",
        "print('-' * 25)\n",
        "age = 15\n",
        "status = None\n",
        "if age > 12 and age < 20:\n",
        "    status = 'teenager'\n",
        "else:\n",
        "    status = 'not teenager'\n",
        "print(status)\n",
        "\n",
        "# Short hand form if expression examples\n",
        "status = ('teenager' if age > 12 and age < 20 else 'not teenager')\n",
        "print(status)\n",
        "\n",
        "num = int(input('Enter a simple number: '))\n",
        "result = (-1 if num < 0 else 1)\n",
        "print('Result is ', result)"
      ],
      "execution_count": 0,
      "outputs": [
        {
          "output_type": "stream",
          "text": [
            "Enter a number: 7\n",
            "-------------------------\n",
            "Enter another number: 8\n",
            "8 is positive\n",
            "8 squared is  64\n",
            "Bye\n",
            "-------------------------\n",
            "Enter yet another number: 5\n",
            "Its not negative\n",
            "-------------------------\n",
            "Enter how much you have in savings: -9\n",
            "Well done\n",
            "-------------------------\n",
            "It is freezing\n",
            "Put on boots\n",
            "Time for Hot Chocolate\n",
            "Bye\n",
            "-------------------------\n",
            "teenager\n",
            "teenager\n",
            "Enter a simple number: 6\n",
            "Result is  1\n"
          ],
          "name": "stdout"
        }
      ]
    },
    {
      "cell_type": "code",
      "metadata": {
        "id": "lSKDVLRyCPEK",
        "colab_type": "code",
        "outputId": "91b810ef-0abe-4ddf-ac1d-b7b4b39c6d9b",
        "colab": {
          "base_uri": "https://localhost:8080/",
          "height": 134
        }
      },
      "source": [
        "# if <condition-evaluating-to-boolean>:\n",
        "#   statement\n",
        "\n",
        "num = int(input('Enter a number: '))\n",
        "if num < 0:\n",
        "    print(num, 'is negative')\n",
        "\n",
        "print(\"\")\n",
        "\n",
        "num = int(input('Enter another number: '))\n",
        "if num > 0:\n",
        "    print(num, 'is positive')\n",
        "    print(num, 'squared is ', num * num)\n",
        "print('Bye')"
      ],
      "execution_count": 0,
      "outputs": [
        {
          "output_type": "stream",
          "text": [
            "Enter a number: -9\n",
            "-9 is negative\n",
            "\n",
            "Enter another number: 3\n",
            "3 is positive\n",
            "3 squared is  9\n",
            "Bye\n"
          ],
          "name": "stdout"
        }
      ]
    },
    {
      "cell_type": "code",
      "metadata": {
        "id": "I2xMuwtkDGq0",
        "colab_type": "code",
        "outputId": "51cc0168-d1a0-4d1d-df52-c845b15b2704",
        "colab": {
          "base_uri": "https://localhost:8080/",
          "height": 101
        }
      },
      "source": [
        "num = int(input('Enter yet another number: '))\n",
        "if num < 0:\n",
        "    print('It is negative')\n",
        "else:\n",
        "    print('It is not negative')\n",
        "\n",
        "print (\"\")\n",
        "\n",
        "savings = float(input(\"Enter how much you have in savings: \"))\n",
        "if savings == 0:\n",
        "    print(\"Sorry no savings\")\n",
        "elif savings < 500:\n",
        "    print('Well done')\n",
        "elif savings < 1000:\n",
        "    print('Thats a tidy sum')\n",
        "elif savings < 10000:\n",
        "    print('Welcome Sir!')\n",
        "else:\n",
        "    print('Thank you')\n"
      ],
      "execution_count": 0,
      "outputs": [
        {
          "output_type": "stream",
          "text": [
            "Enter yet another number: 3\n",
            "It is not negative\n",
            "\n",
            "Enter how much you have in savings: 500000\n",
            "Thank you\n"
          ],
          "name": "stdout"
        }
      ]
    },
    {
      "cell_type": "code",
      "metadata": {
        "id": "yewp5L28F5j2",
        "colab_type": "code",
        "outputId": "e6a0d349-46de-4e87-ddb1-b1438fb14f9e",
        "colab": {
          "base_uri": "https://localhost:8080/",
          "height": 218
        }
      },
      "source": [
        "snowing = True\n",
        "temp = -1\n",
        "if temp < 0:\n",
        "    print('It is freezing')\n",
        "    if snowing:\n",
        "        print('Put on boots')\n",
        "    print('Time for Hot Chocolate')\n",
        "print('Bye')\n",
        "\n",
        "print(\"\")\n",
        "\n",
        "snowing = True\n",
        "temp = -1\n",
        "if temp < 0:\n",
        "    print('It is freezing')\n",
        "    if snowing:\n",
        "        print('Put on boots')\n",
        "        print('Time for Hot Chocolate') #If you wanted it to only be printed out if it was snowing\n",
        "print('Bye')\n",
        "\n",
        "print(\"\")\n",
        "\n",
        "age = 15\n",
        "status = None\n",
        "if (age > 12) and age < 20:\n",
        "    status = 'teenager'\n",
        "else:\n",
        "    status = 'not teenager'\n",
        "print(status)\n",
        "\n",
        "# alternative (concise) format: <result1> if <condition-is-met> else <result2>\n",
        "status = ('teenager' if age > 12 and age < 20 else 'not teenager')\n",
        "print(status)\n",
        "\n",
        "# Python is actually quite flexible when it comes to what actually is used to represent True and False, in fact the following rules apply\n",
        "# • 0, '' (empty strings), None equate to False\n",
        "# • Non zero, non empty strings, any object equate to True.\n"
      ],
      "execution_count": 0,
      "outputs": [
        {
          "output_type": "stream",
          "text": [
            "It is freezing\n",
            "Put on boots\n",
            "Time for Hot Chocolate\n",
            "Bye\n",
            "\n",
            "It is freezing\n",
            "Put on boots\n",
            "Time for Hot Chocolate\n",
            "Bye\n",
            "\n",
            "teenager\n",
            "teenager\n"
          ],
          "name": "stdout"
        }
      ]
    },
    {
      "cell_type": "code",
      "metadata": {
        "id": "GGeYdEYUHEtp",
        "colab_type": "code",
        "outputId": "331f747b-0478-4abe-bc0f-7831041c0d90",
        "colab": {
          "base_uri": "https://localhost:8080/",
          "height": 168
        }
      },
      "source": [
        "num = int(input('Please input the distance in kilometers:'))\n",
        "\n",
        "if num % 2 == 0:\n",
        "    print('The number is even')\n",
        "else:\n",
        "    print('The number is odd')\n",
        "\n",
        "print(\"\")\n",
        "\n",
        "distance_in_km_str = input('Please input the distance in kilometers:')\n",
        "\n",
        "if distance_in_km_str.isnumeric():\n",
        "    distance_in_km = int(distance_in_km_str)\n",
        "\n",
        "    if distance_in_km < 1:\n",
        "        print('You must enter a positive distance')\n",
        "    else:\n",
        "        print('You entered the distance', distance_in_km, 'in kilometers')\n",
        "        distance_in_miles = distance_in_km / 0.6214\n",
        "        print('The distance in miles is', distance_in_miles)\n",
        "\n",
        "else:\n",
        "    print('Not an integer number')\n",
        "\n",
        "print(\"\")\n",
        "\n",
        "num = int(input('Please input the distance in kilometers:'))\n",
        "\n",
        "if num < 0:\n",
        "    print('Number is negative')\n",
        "elif num > 0:\n",
        "    print('Number is positive')\n",
        "else:\n",
        "    print('Number is Zero')"
      ],
      "execution_count": 0,
      "outputs": [
        {
          "output_type": "stream",
          "text": [
            "Please input the distance in kilometers:23\n",
            "The number is odd\n",
            "\n",
            "Please input the distance in kilometers:34\n",
            "You entered the distance 34 in kilometers\n",
            "The distance in miles is 54.71515931766978\n",
            "\n",
            "Please input the distance in kilometers:45\n",
            "Number is positive\n"
          ],
          "name": "stdout"
        }
      ]
    },
    {
      "cell_type": "code",
      "metadata": {
        "id": "3-Z-7XZyMbrj",
        "colab_type": "code",
        "outputId": "20b92eca-1e78-4d76-df0f-0525e60a22fa",
        "colab": {
          "base_uri": "https://localhost:8080/",
          "height": 487
        }
      },
      "source": [
        "# chapter 7 Iteration/Looping\n",
        " # while <test-condition-is-true>:\n",
        " #    statement or statements\n",
        "count = 0\n",
        "print('Starting')\n",
        "while count < 10:\n",
        "    print(count, ' ', end='') # part of the while loop\n",
        "    count += 1  # also part of the while loop\n",
        "print() # not part of the while loop\n",
        "print('Done')\n",
        "\n",
        "# for i = from 0 to 10\n",
        "#     statement or statements\n",
        "#\n",
        "# for <variable-name> in range(...):\n",
        "#     statement\n",
        "#     statement\n",
        "\n",
        "# Loop over a set of values in a range\n",
        "print('Print out values in a range')\n",
        "for i in range(0, 10):\n",
        "    print(i, ' ', end='')\n",
        "print()\n",
        "print('Done')\n",
        "\n",
        "# Now use values in a range but increment by 2\n",
        "print('Print out values in a range with an increment of 2')\n",
        "for i in range(0, 10, 2):\n",
        "    print(i, ' ', end='')\n",
        "print()\n",
        "print('Done')\n",
        "\n",
        "print()\n",
        "# Now use an 'anonymous' loop variable\n",
        "for _ in range(0,10):\n",
        "    print('.', end='')\n",
        "print()\n",
        "\n",
        "print('Only print code if all iterations completed')\n",
        "num = int(input('Enter a number to check for: '))\n",
        "for i in range(0, 6):\n",
        "    if i == num:\n",
        "          break\n",
        "    print(i, ' ', end='')\n",
        "print('Done')\n",
        "\n",
        "for i in range(0, 10):\n",
        "    print(i, ' ', end='')\n",
        "    if i % 2 == 1:\n",
        "        continue\n",
        "    print('hey its an even number')\n",
        "    print('we love even numbers')\n",
        "print('Done')\n",
        "\n",
        "\n",
        "# Only print code if all iterations completed over a list\n",
        "print('Only print code if all iterations completed')\n",
        "num = int(input('Enter a number to check for: '))\n",
        "for i in range(0, 6):\n",
        "    if i == num:\n",
        "      break\n",
        "    print(i, ' ', end='')\n",
        "else:\n",
        "    print()\n",
        "    print('All iterations successful')"
      ],
      "execution_count": 0,
      "outputs": [
        {
          "output_type": "stream",
          "text": [
            "Starting\n",
            "0  1  2  3  4  5  6  7  8  9  \n",
            "Done\n",
            "Print out values in a range\n",
            "0  1  2  3  4  5  6  7  8  9  \n",
            "Done\n",
            "Print out values in a range with an increment of 2\n",
            "0  2  4  6  8  \n",
            "Done\n",
            "\n",
            "..........\n",
            "Only print code if all iterations completed\n",
            "Enter a number to check for: 4\n",
            "0  1  2  3  Done\n",
            "0  hey its an even number\n",
            "we love even numbers\n",
            "1  2  hey its an even number\n",
            "we love even numbers\n",
            "3  4  hey its an even number\n",
            "we love even numbers\n",
            "5  6  hey its an even number\n",
            "we love even numbers\n",
            "7  8  hey its an even number\n",
            "we love even numbers\n",
            "9  Done\n",
            "Only print code if all iterations completed\n",
            "Enter a number to check for: 3\n",
            "0  1  2  "
          ],
          "name": "stdout"
        }
      ]
    },
    {
      "cell_type": "code",
      "metadata": {
        "id": "5WbzMdqqPesQ",
        "colab_type": "code",
        "outputId": "4c4700cc-cbfa-431a-e99a-5c31db8fcb76",
        "colab": {
          "base_uri": "https://localhost:8080/",
          "height": 622
        }
      },
      "source": [
        "# loop variable - usually use i and j for variables\n",
        "import random\n",
        "MIN = 1\n",
        "MAX = 6\n",
        "roll_again = 'y'\n",
        "while roll_again == 'y':\n",
        "    print('Rolling the dices...')\n",
        "    print('The values are....')\n",
        "    dice1 = random.randint(MIN, MAX)\n",
        "    print(dice1)\n",
        "    dice2 = random.randint(MIN, MAX)\n",
        "    print(dice2)\n",
        "    roll_again = input('Roll the dices again? (y / n): ')\n",
        "\n",
        "# whilesample\n",
        "print()\n",
        "count = 0\n",
        "print('Starting')\n",
        "while count < 10:\n",
        "    print(count)\n",
        "    count += 1\n",
        "\n",
        "print('Done')\n",
        "\n",
        "print('-' * 25)\n",
        "\n",
        "fx = 0\n",
        "x = 0\n",
        "\n",
        "print('Starting')\n",
        "while fx < 100:\n",
        "    fx = 2 * x * (x + 1)\n",
        "    print(x, '\\t: ', fx)\n",
        "    x += 1\n",
        "\n",
        "print('Done')\n",
        "\n",
        "# prime numbers\n",
        "print()\n",
        "number = input('Please input the number:')\n",
        "if number.isnumeric():\n",
        "\n",
        "    num = int(number)\n",
        "\n",
        "    if num <= 2:\n",
        "        print('Number must be greater than 2')\n",
        "    else:\n",
        "        # Assume a number is a prime number until proved otherwise\n",
        "        prime_number = True\n",
        "        for i in range(2, num):\n",
        "            for j in range(2, i):\n",
        "                # If there is no remainder then its not a prime number\n",
        "                if i % j == 0:\n",
        "                    prime_number = False\n",
        "                    break\n",
        "            if prime_number:\n",
        "                print('Prime number', i)\n",
        "            prime_number = True\n",
        "\n",
        "else:\n",
        "    print('Must be a positive integer')\n",
        "\n",
        "\n",
        "# factorial\n",
        "print()\n",
        "number = input('Please input the number:')\n",
        "\n",
        "if number.isnumeric():\n",
        "    num = int(number)\n",
        "    if num == 0:\n",
        "        print('0! factorial is 1')\n",
        "    else:\n",
        "        factorial = 1\n",
        "        for i in range(1, num + 1):\n",
        "            factorial = factorial * i\n",
        "        print(number + '! factorial is', str(factorial))\n",
        "\n",
        "else:\n",
        "    print('Not an integer number')"
      ],
      "execution_count": 0,
      "outputs": [
        {
          "output_type": "stream",
          "text": [
            "Rolling the dices...\n",
            "The values are....\n",
            "1\n",
            "2\n",
            "Roll the dices again? (y / n): n\n",
            "\n",
            "Starting\n",
            "0\n",
            "1\n",
            "2\n",
            "3\n",
            "4\n",
            "5\n",
            "6\n",
            "7\n",
            "8\n",
            "9\n",
            "Done\n",
            "-------------------------\n",
            "Starting\n",
            "0 \t:  0\n",
            "1 \t:  4\n",
            "2 \t:  12\n",
            "3 \t:  24\n",
            "4 \t:  40\n",
            "5 \t:  60\n",
            "6 \t:  84\n",
            "7 \t:  112\n",
            "Done\n",
            "\n",
            "Please input the number:5\n",
            "Prime number 2\n",
            "Prime number 3\n",
            "\n",
            "Please input the number:9\n",
            "9! factorial is 362880\n"
          ],
          "name": "stdout"
        }
      ]
    },
    {
      "cell_type": "code",
      "metadata": {
        "id": "b_SubhykHrnh",
        "colab_type": "code",
        "outputId": "dbf688e9-1566-4aa5-f014-dbe21ffcf18c",
        "colab": {
          "base_uri": "https://localhost:8080/",
          "height": 202
        }
      },
      "source": [
        "# chapter 8 - Number Guessing Game\n",
        "\n",
        "import random\n",
        "\n",
        "print('Welcome to the number guess game')\n",
        "\n",
        "# Initialise the number to be guessed\n",
        "number_to_guess = random.randint(1,10)\n",
        "\n",
        "# Initialise the number of tries the player has made\n",
        "count_number_of_tries = 1\n",
        "\n",
        "# Obtain their initial guess\n",
        "guess = int(input('Please guess a number between 1 and 10: '))\n",
        "while number_to_guess != guess:\n",
        "    print('Sorry wrong number')\n",
        "\n",
        "    # Check to see they have not exceeded the maximum\n",
        "    # number of attempts if so break out of loop otherwise\n",
        "    # give the user come feedback\n",
        "    if count_number_of_tries == 4:\n",
        "        break\n",
        "    elif guess < number_to_guess:\n",
        "        print('Your guess was lower than the number')\n",
        "    else:\n",
        "        print('Your guess was higher than the number')\n",
        "\n",
        "    # Obtain their next guess and increment number of attempts\n",
        "    guess = int(input('Please guess again: '))\n",
        "    count_number_of_tries += 1\n",
        "\n",
        "# Check to see if they did guess the correct number\n",
        "if number_to_guess == guess:\n",
        "    print('Well done you won!')\n",
        "    print('You took', count_number_of_tries , 'goes to complete the game')\n",
        "else:\n",
        "    print(\"Sorry - you loose\")\n",
        "    print('The number you needed to guess was',\n",
        "          number_to_guess)\n",
        "\n",
        "print('Game Over')\n"
      ],
      "execution_count": 0,
      "outputs": [
        {
          "output_type": "stream",
          "text": [
            "Welcome to the number guess game\n",
            "Please guess a number between 1 and 10: 5\n",
            "Sorry wrong number\n",
            "Your guess was higher than the number\n",
            "Please guess again: 4\n",
            "Sorry wrong number\n",
            "Your guess was higher than the number\n",
            "Please guess again: 3\n",
            "Well done you won!\n",
            "You took 3 goes to complete the game\n",
            "Game Over\n"
          ],
          "name": "stdout"
        }
      ]
    },
    {
      "cell_type": "code",
      "metadata": {
        "id": "KRqgOakpN9rD",
        "colab_type": "code",
        "colab": {}
      },
      "source": [
        "# > ASK FOR HELP FROM AARON HOW TO MODIFY THE GAME TO DO THE FOLLOWING:\n",
        "# 1. Provide a cheat mode, for example if the user enters −1 print out the number they need to guess and then loop again. This does not count as one of their goes.\n",
        "# 2. If their guess is within 1 of the actual number tell the player this.\n",
        "# 3. At the end of the game, before printing 'Game Over', modify your program so that it asks the user if they want to play again; if they say yes then restart the whole thing.\n",
        "\n",
        "# count = count + 1\n",
        "# count += 1"
      ],
      "execution_count": 0,
      "outputs": []
    },
    {
      "cell_type": "code",
      "metadata": {
        "id": "qitfbrGNPoO9",
        "colab_type": "code",
        "outputId": "990e13a7-6945-4c0d-d2e9-ffd746c417fb",
        "colab": {
          "base_uri": "https://localhost:8080/",
          "height": 34
        }
      },
      "source": [
        "# chapter 9 - recursion\n",
        "# pseudocode\n",
        "# search(value_to_find, current_node):\n",
        "#     If current_node.value == value_to_find:\n",
        "#        print(‘value found:’, current_node.value)\n",
        "#    Else If current.node.has_children:\n",
        "#        search(value, current_node.left)\n",
        "#        search(current_node.right)\n",
        "\n",
        "#def recursive_function():\n",
        "#    print('calling recursive_function')\n",
        "#    recursive_function()\n",
        "# in the case of recursive_function() this will result in infinite recursion as there is no termination condition. However, this will only become apparent at runtime when Python will eventually generate an error:\n",
        "# Traceback (most recent call last):\n",
        "#   File \"recursion_example.py\", line 5, in <module>\n",
        "# RecursionError: maximum recursion depth exceeded while calling a Python object\n",
        "def factorial(n):\n",
        "    if n == 1: # The termination condition\n",
        "        return 1 # The base case\n",
        "    else:\n",
        "        res = n * factorial(n-1) # The recursive call\n",
        "        return res\n",
        "print(factorial(5))"
      ],
      "execution_count": 0,
      "outputs": [
        {
          "output_type": "stream",
          "text": [
            "120\n"
          ],
          "name": "stdout"
        }
      ]
    },
    {
      "cell_type": "code",
      "metadata": {
        "id": "Bot4xeH2X6-C",
        "colab_type": "code",
        "outputId": "36be9b8c-305b-4cf3-f9c6-6f40eda4fb39",
        "colab": {
          "base_uri": "https://localhost:8080/",
          "height": 235
        }
      },
      "source": [
        "def factorial(n, depth = 1):\n",
        "    if n == 1:\n",
        "        print('\\t' * depth, 'Returning 1')\n",
        "        return 1\n",
        "    else:\n",
        "        print('\\t'*depth,'Recursively calling factorial(',n-1,')')\n",
        "        result = n * factorial(n-1, depth + 1)\n",
        "        print('\\t' * depth, 'Returning:', result)\n",
        "        return result\n",
        "print('Calling factorial( 5 )')\n",
        "print(factorial(5))\n",
        "\n",
        "print()\n",
        "\n",
        "# more efficient way with accumulator parameter\n",
        "def tail_factorial(n, accumulator=1):\n",
        "    if n == 0:\n",
        "        return accumulator\n",
        "    else:\n",
        "        return tail_factorial(n - 1, accumulator * n)\n",
        "print(tail_factorial(5))\n",
        "\n"
      ],
      "execution_count": 0,
      "outputs": [
        {
          "output_type": "stream",
          "text": [
            "Calling factorial( 5 )\n",
            "\t Recursively calling factorial( 4 )\n",
            "\t\t Recursively calling factorial( 3 )\n",
            "\t\t\t Recursively calling factorial( 2 )\n",
            "\t\t\t\t Recursively calling factorial( 1 )\n",
            "\t\t\t\t\t Returning 1\n",
            "\t\t\t\t Returning: 2\n",
            "\t\t\t Returning: 6\n",
            "\t\t Returning: 24\n",
            "\t Returning: 120\n",
            "120\n",
            "\n",
            "120\n"
          ],
          "name": "stdout"
        }
      ]
    },
    {
      "cell_type": "code",
      "metadata": {
        "id": "Kb7SHdJf50RH",
        "colab_type": "code",
        "outputId": "76d7dfd5-af29-40f8-cfae-fe0412c82dc3",
        "colab": {
          "base_uri": "https://localhost:8080/",
          "height": 218
        }
      },
      "source": [
        "\n",
        "# Recursive functions\n",
        "\n",
        "\n",
        "def factorial(n, depth=1):\n",
        "    if n == 1: # The base case\n",
        "        print('\\t' * depth, 'Returning 1')\n",
        "        return 1\n",
        "    else: # The recursive part\n",
        "        print('\\t' * depth, 'Recursively calling factorial(', n - 1, ')')\n",
        "        result = n * factorial(n - 1, depth + 1)\n",
        "        print('\\t' * depth, 'Returning:', result)\n",
        "        return result\n",
        "\n",
        "\n",
        "print('Calling factorial( 5 )')\n",
        "print(factorial(5))\n",
        "\n",
        "# Tail recursive example\n",
        "\n",
        "\n",
        "def tail_factorial(n, accumulator=1):\n",
        "    if n == 0:\n",
        "        return accumulator\n",
        "    else:\n",
        "        return tail_factorial(n - 1, accumulator * n)\n",
        "\n",
        "\n",
        "print(tail_factorial(5))"
      ],
      "execution_count": 0,
      "outputs": [
        {
          "output_type": "stream",
          "text": [
            "Calling factorial( 5 )\n",
            "\t Recursively calling factorial( 4 )\n",
            "\t\t Recursively calling factorial( 3 )\n",
            "\t\t\t Recursively calling factorial( 2 )\n",
            "\t\t\t\t Recursively calling factorial( 1 )\n",
            "\t\t\t\t\t Returning 1\n",
            "\t\t\t\t Returning: 2\n",
            "\t\t\t Returning: 6\n",
            "\t\t Returning: 24\n",
            "\t Returning: 120\n",
            "120\n",
            "120\n"
          ],
          "name": "stdout"
        }
      ]
    },
    {
      "cell_type": "code",
      "metadata": {
        "id": "UN-C8X1k7-Jx",
        "colab_type": "code",
        "outputId": "24750b7c-588c-4010-97c3-b596489e22a5",
        "colab": {
          "base_uri": "https://localhost:8080/",
          "height": 168
        }
      },
      "source": [
        "#recursive prime\n",
        "def is_prime(n, i=2):\n",
        "    # Base cases\n",
        "    if n <= 2:\n",
        "        return True if (n == 2) else False\n",
        "    if n % i == 0:\n",
        "        return False\n",
        "    if i * i > n:\n",
        "        return True\n",
        "\n",
        "    # Check for next divisor\n",
        "    return is_prime(n, i + 1)\n",
        "\n",
        "\n",
        "print('is_prime(3):', is_prime(3))\n",
        "print('is_prime(7):', is_prime(7))\n",
        "print('is_prime(9):', is_prime(9))\n",
        "print('is_prime(31):', is_prime(31))\n",
        "\n",
        "\n",
        "def pascals_triangle(n):\n",
        "  #  \"\"\" Recursive function to calculate Pascals Triangle \"\"\"\n",
        "    if n == 1:\n",
        "        return [[1]] # Base case termination condition\n",
        "    else:\n",
        "        result = pascals_triangle(n-1) # Recursive call\n",
        "        # Calculate current row using info from previous row\n",
        "        current_row = [1]\n",
        "        previous_row = result[-1] # Take from end of result\n",
        "        for i in range(len(previous_row)-1):\n",
        "            current_row.append(previous_row[i] + previous_row[i+1])\n",
        "        current_row += [1]\n",
        "        result.append(current_row)\n",
        "        return result\n",
        "\n",
        "\n",
        "triangle = pascals_triangle(5)\n",
        "for row in triangle:\n",
        "    print(row)"
      ],
      "execution_count": 0,
      "outputs": [
        {
          "output_type": "stream",
          "text": [
            "is_prime(3): True\n",
            "is_prime(7): True\n",
            "is_prime(9): False\n",
            "is_prime(31): True\n",
            "[1]\n",
            "[1, 1]\n",
            "[1, 2, 1]\n",
            "[1, 3, 3, 1]\n",
            "[1, 4, 6, 4, 1]\n"
          ],
          "name": "stdout"
        }
      ]
    },
    {
      "cell_type": "code",
      "metadata": {
        "id": "y4OKOMRY8IFU",
        "colab_type": "code",
        "outputId": "875b7c8f-634e-4bf9-8f4a-31dbfb2342e1",
        "colab": {
          "base_uri": "https://localhost:8080/",
          "height": 319
        }
      },
      "source": [
        "# chapter 11 - functions in python\n",
        "\n",
        "#def function_name(parameter list):\n",
        "#    \"\"\"docstring\"\"\"\n",
        "#    statement\n",
        "#    statement(s)\n",
        "def print_msg():\n",
        "    print('Hello World!')\n",
        "\n",
        "\n",
        "print_msg()\n",
        "print(type(print_msg))\n",
        "\n",
        "\n",
        "def print_my_msg(msg):\n",
        "    print(msg)\n",
        "\n",
        "\n",
        "print_my_msg('Hello World')\n",
        "print_my_msg('Good day')\n",
        "print_my_msg('Welcome')\n",
        "print_my_msg('Ola')\n",
        "\n",
        "\n",
        "def square(n):\n",
        "    return n * n\n",
        "\n",
        "\n",
        "# Store result from square in a variable\n",
        "result = square(4)\n",
        "print(result)\n",
        "# Send the result from square immediately to another function\n",
        "print(square(5))\n",
        "# Use the result returned form square in a conditional expression\n",
        "if square(3) < 15:\n",
        "    print('Still less than 15')\n",
        "\n",
        "\n",
        "def swap(a, b):\n",
        "    return b, a\n",
        "\n",
        "\n",
        "a = 2\n",
        "b = 3\n",
        "x, y = swap(a, b)\n",
        "print(x, ',', y)\n",
        "print('----')\n",
        "\n",
        "z = swap(a, b)\n",
        "print(z)\n",
        "\n",
        "\n",
        "def get_integer_input(message):\n",
        "    #\"\"\"\n",
        "   # This function will display the message to the user\n",
        "   # and request that they input an integer.\n",
        "   # If the user enters something that is not a number\n",
        "   # then the input will be rejected\n",
        "   # and an error message will be displayed.\n",
        "   # The user will then be asked to try again.\"\"\"#\n",
        "\n",
        "    value_as_string = input(message)\n",
        "    while not value_as_string.isnumeric():\n",
        "        print('The input must be an integer')\n",
        "        value_as_string = input(message)\n",
        "\n",
        "    return int(value_as_string)\n",
        "\n",
        "\n",
        "age = get_integer_input('Please input your age: ')\n",
        "print('age is', age)\n",
        "\n",
        "# docstring can be read directly from the code but is also available to IDEs such as PyCharm so that they can provide information about the function\n",
        "print(get_integer_input.__doc__)\n",
        "\n",
        "\n",
        "def makeAList(start, end):\n",
        "    newList = list(range(start, end))\n",
        "    return newList\n",
        "\n",
        "\n",
        "def dictionary():\n",
        "    return {'one': 1, 'two': 2}\n",
        "\n",
        "\n",
        "list1 = makeAList(5, 10)\n",
        "print(list1)\n",
        "\n",
        "print(dictionary())\n",
        "\n",
        "\n",
        "double = lambda i : i * i\n",
        "\n",
        "print(double(10))\n"
      ],
      "execution_count": 0,
      "outputs": [
        {
          "output_type": "stream",
          "text": [
            "Hello World!\n",
            "<class 'function'>\n",
            "Hello World\n",
            "Good day\n",
            "Welcome\n",
            "Ola\n",
            "16\n",
            "25\n",
            "Still less than 15\n",
            "3 , 2\n",
            "----\n",
            "(3, 2)\n",
            "Please input your age: 22\n",
            "age is 22\n",
            "None\n",
            "[5, 6, 7, 8, 9]\n",
            "{'one': 1, 'two': 2}\n",
            "100\n"
          ],
          "name": "stdout"
        }
      ]
    },
    {
      "cell_type": "code",
      "metadata": {
        "id": "fRqLHND0-8Fa",
        "colab_type": "code",
        "outputId": "ff513369-8b15-4e3c-bbcf-a109d27272a9",
        "colab": {
          "base_uri": "https://localhost:8080/",
          "height": 554
        }
      },
      "source": [
        "#greeter function takes defines two parameters; name and message.\n",
        "#These parameters (which are local to the function and cannot be seen outside of the\n",
        "#function) are then used within the body of the function\n",
        "def greeter(name, message='Live Long and Prosper'):\n",
        "    print('Welcome', name, '-', message)\n",
        "\n",
        "\n",
        "greeter('Adeela')\n",
        "greeter('Adeela', 'Hope you like Rugby')\n",
        "\n",
        "\n",
        "def greeter(name, title='Dr', prompt='Welcome', message='Live Long and Prosper'):\n",
        "    print(prompt, title, name, '-', message)\n",
        "\n",
        "\n",
        "greeter(message='We like Python', name='Lloyd')\n",
        "greeter('Lloyd', message='We like Python')\n",
        "\n",
        "#cannot place positional arguments after a named argument, so we cannot write:\n",
        "#greeter(name='John', 'We like Python')\n",
        "#As this will result in Python generating an error.\n",
        "\n",
        "def greeter(*names): # *args\n",
        "    for name in names: # args\n",
        "        print('Welcome', name)\n",
        "\n",
        "\n",
        "greeter('John', 'Denise', 'Phoebe', 'Adam', 'Gryff', 'Jasmine')\n",
        "\n",
        "\n",
        "def increment(num):\n",
        "    return num + 1\n",
        "\n",
        "\n",
        "print(increment(5))\n",
        "print(increment(5))\n",
        "\n",
        "print(\"*******\")\n",
        "\n",
        "def my_function(*args, **kwargs):\n",
        "    for arg in args:\n",
        "        print('arg:', arg)\n",
        "    for key in kwargs.keys():\n",
        "        print('key:', key, 'has value: ', kwargs[key])\n",
        "\n",
        "\n",
        "my_function('John', 'Denise', daughter='Phoebe', son='Adam')\n",
        "print('-' * 50)\n",
        "my_function('Paul', 'Fiona', son_number_one='Andrew', son_number_two='James', daughter='Joselyn')\n",
        "\n",
        "\n",
        "def named(**kwargs):\n",
        "    for key in kwargs.keys():\n",
        "        print('arg:', key, 'has value:', kwargs[key])\n",
        "\n",
        "\n",
        "named(a=1, b=2, c=3)\n",
        "\n",
        "\n",
        "def printer(*args):\n",
        "    for arg in args:\n",
        "        print('arg:', arg, end=\", \")\n",
        "    print()\n",
        "\n",
        "\n",
        "a = (1, 2, 3, 4)\n",
        "b = [1, 2, 3, 4]\n",
        "\n",
        "printer(0, 1, 2, 3, 4, 5)\n",
        "printer(0, a, 5)\n",
        "printer(0, b, 5)\n",
        "printer(0, *a)\n",
        "printer(0, *b)\n",
        "printer(0, *[1, 2, 3, 4])"
      ],
      "execution_count": 0,
      "outputs": [
        {
          "output_type": "stream",
          "text": [
            "Welcome Adeela - Live Long and Prosper\n",
            "Welcome Adeela - Hope you like Rugby\n",
            "Welcome Dr Lloyd - We like Python\n",
            "Welcome Dr Lloyd - We like Python\n",
            "Welcome John\n",
            "Welcome Denise\n",
            "Welcome Phoebe\n",
            "Welcome Adam\n",
            "Welcome Gryff\n",
            "Welcome Jasmine\n",
            "6\n",
            "6\n",
            "*******\n",
            "arg: John\n",
            "arg: Denise\n",
            "key: daughter has value:  Phoebe\n",
            "key: son has value:  Adam\n",
            "--------------------------------------------------\n",
            "arg: Paul\n",
            "arg: Fiona\n",
            "key: son_number_one has value:  Andrew\n",
            "key: son_number_two has value:  James\n",
            "key: daughter has value:  Joselyn\n",
            "arg: a has value: 1\n",
            "arg: b has value: 2\n",
            "arg: c has value: 3\n",
            "arg: 0, arg: 1, arg: 2, arg: 3, arg: 4, arg: 5, \n",
            "arg: 0, arg: (1, 2, 3, 4), arg: 5, \n",
            "arg: 0, arg: [1, 2, 3, 4], arg: 5, \n",
            "arg: 0, arg: 1, arg: 2, arg: 3, arg: 4, \n",
            "arg: 0, arg: 1, arg: 2, arg: 3, arg: 4, \n",
            "arg: 0, arg: 1, arg: 2, arg: 3, arg: 4, \n"
          ],
          "name": "stdout"
        }
      ]
    },
    {
      "cell_type": "code",
      "metadata": {
        "id": "eo4ejiGSFDlQ",
        "colab_type": "code",
        "outputId": "092b356a-70db-4fdf-e793-0cf66caf8f87",
        "colab": {
          "base_uri": "https://localhost:8080/",
          "height": 101
        }
      },
      "source": [
        "# anonymous functions\n",
        "# lambda arguments: expression\n",
        "double = lambda i: i * i\n",
        "\n",
        "print(double(10))\n",
        "\n",
        "func0 = lambda: print('no args')\n",
        "func1 = lambda x: x * x\n",
        "func2 = lambda x, y: x * y\n",
        "func3 = lambda x, y, z: x + y + z\n",
        "\n",
        "func0()\n",
        "print(func1(4))\n",
        "print(func2(3, 4))\n",
        "print(func3(2, 3, 4))"
      ],
      "execution_count": 0,
      "outputs": [
        {
          "output_type": "stream",
          "text": [
            "100\n",
            "no args\n",
            "16\n",
            "12\n",
            "9\n"
          ],
          "name": "stdout"
        }
      ]
    },
    {
      "cell_type": "code",
      "metadata": {
        "id": "huHQKyPrPgPQ",
        "colab_type": "code",
        "outputId": "57627e23-24bc-4f98-ee77-e6badbb3db58",
        "colab": {
          "base_uri": "https://localhost:8080/",
          "height": 286
        }
      },
      "source": [
        "# number guess game\n",
        "\n",
        "import random\n",
        "\n",
        "# Initialise the number to be guessed\n",
        "NUMBER_TO_GUESS = random.randint(1, 10)\n",
        "\n",
        "def welcome_message():\n",
        "    print('Welcome to the number guess game')\n",
        "\n",
        "def game_over_message():\n",
        "    print('Game Over')\n",
        "\n",
        "\n",
        "def get_user_input(prompt):\n",
        "    invalid_input = True\n",
        "    while invalid_input:\n",
        "        print(prompt)\n",
        "        user_input = input()\n",
        "        if not user_input.isdigit():\n",
        "            print('Input must be a number')\n",
        "        else:\n",
        "            user_input_int = int(user_input)\n",
        "            if (user_input_int < 1 or user_input_int > 10):\n",
        "                print('input must be a number in the range 1 to 10')\n",
        "            else:\n",
        "                invalid_input = False\n",
        "    return user_input_int\n",
        "\n",
        "\n",
        "def play_game():\n",
        "    \"\"\" Defines main loop controlling game\"\"\"\n",
        "    # Initialise the number of tries the player has made\n",
        "    count_number_of_tries = 1\n",
        "\n",
        "    # Obtain their initial guess\n",
        "    guess = get_user_input('Please guess a number between 1 and 10: ')\n",
        "    while NUMBER_TO_GUESS != guess:\n",
        "        print('Sorry wrong number')\n",
        "\n",
        "        # Check to see they have not exceeded the maximum\n",
        "        # number of attempts if so break out of loop otherwise\n",
        "        # give the user come feedback\n",
        "        if count_number_of_tries == 4:\n",
        "            break\n",
        "        elif guess < NUMBER_TO_GUESS:\n",
        "            print('Your guess was lower than the number')\n",
        "        else:\n",
        "            print('Your guess was higher than the number')\n",
        "\n",
        "        # Obtain their next guess and increment number of attempts\n",
        "        guess = int(input('Please guess again: '))\n",
        "        count_number_of_tries += 1\n",
        "\n",
        "    return guess\n",
        "\n",
        "\n",
        "def check_for_a_win(guess):\n",
        "    \"\"\" Check to see if they did guess the correct number \"\"\"\n",
        "    if NUMBER_TO_GUESS == guess:\n",
        "        print('Well done you won!')\n",
        "    else:\n",
        "        print(\"Sorry - you loose\")\n",
        "        print('The number you needed to guess was',\n",
        "              NUMBER_TO_GUESS)\n",
        "\n",
        "\n",
        "welcome_message()\n",
        "\n",
        "last_guess = play_game()\n",
        "check_for_a_win(last_guess)\n",
        "\n",
        "game_over_message()"
      ],
      "execution_count": 0,
      "outputs": [
        {
          "output_type": "stream",
          "text": [
            "Welcome to the number guess game\n",
            "Please guess a number between 1 and 10: \n",
            "4\n",
            "Sorry wrong number\n",
            "Your guess was lower than the number\n",
            "Please guess again: 3\n",
            "Sorry wrong number\n",
            "Your guess was lower than the number\n",
            "Please guess again: 2\n",
            "Sorry wrong number\n",
            "Your guess was lower than the number\n",
            "Please guess again: 1\n",
            "Sorry wrong number\n",
            "Sorry - you loose\n",
            "The number you needed to guess was 6\n",
            "Game Over\n"
          ],
          "name": "stdout"
        }
      ]
    },
    {
      "cell_type": "code",
      "metadata": {
        "id": "ERboHcduQlgf",
        "colab_type": "code",
        "outputId": "0f70ab9c-01a2-4271-eb95-81433c37ced7",
        "colab": {
          "base_uri": "https://localhost:8080/",
          "height": 134
        }
      },
      "source": [
        "# Chapter 12 - Scope and Lifetime of Variables\n",
        "def my_function():\n",
        "    a_variable = 100\n",
        "    print(a_variable)\n",
        "# a_variable is undefined at the top level (which is the global scope)\n",
        "\n",
        "a_variable = 25 #here we define it as a global variable\n",
        "my_function()\n",
        "print(a_variable)\n",
        "\n",
        "max = 100\n",
        "def print_max():\n",
        "    print(max)\n",
        "print_max()\n",
        "\n",
        "max = 100\n",
        "def print_max():\n",
        "    global max\n",
        "    max = max + 1\n",
        "    print(max)\n",
        "\n",
        "\n",
        "print_max()\n",
        "print(max)\n",
        "\n",
        "\n",
        "def outer():\n",
        "    title = \"le inner title\"\n",
        "\n",
        "    def inner():\n",
        "        nonlocal title\n",
        "        title = \"la outer title\"\n",
        "        print(\"inner:\", title)\n",
        "\n",
        "    inner()\n",
        "    print(\"outer:\", title)\n",
        "\n",
        "\n",
        "outer()"
      ],
      "execution_count": 0,
      "outputs": [
        {
          "output_type": "stream",
          "text": [
            "100\n",
            "25\n",
            "100\n",
            "101\n",
            "101\n",
            "inner: la outer title\n",
            "outer: la outer title\n"
          ],
          "name": "stdout"
        }
      ]
    }
  ]
}